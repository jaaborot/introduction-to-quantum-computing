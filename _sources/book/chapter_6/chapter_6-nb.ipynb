{
 "cells": [
  {
   "attachments": {},
   "cell_type": "markdown",
   "metadata": {},
   "source": [
    "# Software Programming for Quantum Computation \n",
    "*by Ross Mariano*\n",
    "\n",
    "```{contents}\n",
    "\n",
    "```"
   ]
  },
  {
   "attachments": {},
   "cell_type": "markdown",
   "metadata": {},
   "source": [
    "## Technology Stack for Quantum Computing\n",
    "\n",
    "Technology stack refers to the set of technologies to develop an application, including programming languages, frameworks, databases, front-end and back-end tools, and APIs\n",
    "\n",
    "These include:\n",
    "- Hardware\n",
    "- Physical qubits\n",
    "- Quantum Error Correction\n",
    "- Logical qubits\n",
    "- Quantum Intermediate Representation\n",
    "- Quantum algorithms"
   ]
  },
  {
   "attachments": {},
   "cell_type": "markdown",
   "metadata": {},
   "source": [
    "## Workflow for Using Quantum Processing Units as Co-processor\n",
    "\n",
    "A quantum processing unit (QPU) is the brain of a quantum computer, similar to CPUs being the brain of a clsasical computer.\n",
    "\n",
    "Classical computers (CPUs, GPUs) uses transistors to manipulate electrical current, producing on and off states. These on and off states are interpreted as the classical bits being either 1 or 0.\n",
    "\n",
    "QPUs manipulate a *qubit*. These qubits are then represented using basis states $|0\\rangle$ and $|1\\rangle$."
   ]
  },
  {
   "attachments": {},
   "cell_type": "markdown",
   "metadata": {},
   "source": [
    "### How do we create a qubit?\n",
    "\n",
    "There are numerous techniques on creating qubits\n",
    "\n",
    "* **Neutral-atom qubits** are atoms containing balanced amount of positive and negative charges. Highly focused laser beams called optical tweezers are used to manipulate the atoms\n",
    "* **Superconducting qubits** are created using superconducting qubits. This is done by cooling the system near absolute zero. It is the most used method in creating qubits.\n",
    "* **Photonic qubits** are qubits created using photons. Linear materials such as lenses and mirrors are used to manipulate the qubits.\n",
    "* **Silicon-based quantum computing** are used in studying for scalability.\n",
    "* **Quantum Annealing** is an optimization process returning low-energy solutions.\n",
    "* **Trapped-Ion** also uses electric fields manipulated by lasers. These typically have longer coherence times."
   ]
  },
  {
   "attachments": {},
   "cell_type": "markdown",
   "metadata": {},
   "source": [
    "### Superconducting quantum computing\n",
    "\n",
    "Superconducting quantum computers are used by well-known companies such as IBM and Google. Some of their quantum computers are IBM's Eagle and Google's Sycamore.\n",
    "\n",
    "Superconductivity happens when resistance of the material goes to zero, this also results in conductivity effectively becoming infinite. This is done by lowering the temperature of the material near absolute zero (0K).\n",
    "\n",
    "This is advantageous as there will be no loss of energy, which means that we can maintain a qubit's state.\n",
    "\n",
    "When this happens, the electrons attract the positive nuclei to form regions of high charge density and low charge density. These regions essentially alternate. These charge distribution regions create waves which are called *phonons*.\n",
    "\n",
    "```{image} ./images/chapter6-supercon1.png\n",
    ":height: 300px\n",
    "```\n",
    "\n",
    "We harness these properties of superconductivity by creating a superconducting LC circuit. A superconducting LC circuit is used as the capacitor is used to measure how much charge can be stored and the inductor measures the strength of the magnetic field.\n",
    "\n",
    "This is the *superconducting qubit*, also called *artificial atom* in other references.\n",
    "\n",
    "```{image} ./images/chapter6-supercon2.png\n",
    ":height: 300px\n",
    "```\n",
    "\n",
    "We measure the state of the superconducting qubit by using electromagnetic waves(light) in the microwave range. The energy differences is then measured to determine the actual state.\n",
    "\n",
    "```{image} ./images/chapter6-supercon3.png\n",
    ":height: 300px\n",
    "```\n"
   ]
  },
  {
   "attachments": {},
   "cell_type": "markdown",
   "metadata": {},
   "source": [
    "Now, we've shown how we can create a qubit. How do we make this information *useful*?\n",
    "\n",
    "We've only discussed a QPU. Do other quantum versions of classical technologies exist? Quantum memory, quantum storage, quantum operating system? Research on these things are also being done but are also in their infancy.\n",
    "\n",
    "Remember that quantum computing is **NOT** meant to replace classical computing. Quantum computing is meant to augment or extend the capabilities of classical computing.\n",
    "\n",
    "We combine available functionality from quantum computers/qpus and use classical computers for functions not yet available using quantum. We call these *hybrid quantum systems*.\n",
    "\n",
    "```{image} ./images/chapter6-hybrid.png\n",
    ":height: 300px\n",
    "```"
   ]
  },
  {
   "attachments": {},
   "cell_type": "markdown",
   "metadata": {},
   "source": [
    "However, quantum computers are unavailable for most us due to its extremely high costs.\n",
    "\n",
    "We can use IBM's quantum computer via the cloud, but it costs $1.60 USD per second. PER SECOND.\n",
    "\n",
    "```{image} ./images/chapter6-cost1.png\n",
    ":height: 300px\n",
    "```\n",
    "\n",
    "Also, with a quick google search we can see tha quantum computers costs millions of dollars to make.\n",
    "```{image} ./images/chapter6-cost2.png\n",
    ":height: 300px\n",
    "```\n",
    "\n",
    "So what can we do? We use software to do quantum circuit simulations."
   ]
  },
  {
   "attachments": {},
   "cell_type": "markdown",
   "metadata": {},
   "source": [
    "## Software Frameworks for Quantum Programming\n",
    "\n",
    "This is where quantum circuit simulations come in.\n",
    "\n",
    "We know the theory, we know the math. We can try to simulate quantum computing on classical hardware.\n",
    "\n",
    "There are many available quantum software frameworks with different implementations and different philosophies. These are made by big tech companies, universities, and research institutes.\n",
    "\n",
    "```{image} ./images/chapter6-softwaremap.png\n",
    ":height: 300px\n",
    "```\n",
    "\n",
    "Some software we use using different models are **Qiskit** for the quantum circuit model, **Quimb** for tensor networks model, and **DDSIM** for decision diagrams model.\n",
    "\n",
    "We will show how to simulate the Bell state circuit using these three different software and representations."
   ]
  },
  {
   "attachments": {},
   "cell_type": "markdown",
   "metadata": {},
   "source": [
    "## IBM's Qiskit Software Framework"
   ]
  },
  {
   "attachments": {},
   "cell_type": "markdown",
   "metadata": {},
   "source": [
    "Qiskit is a quantum software programming framework developed by IBM using the quantum circuit model. It can be used to simulate quantum circuits and quantum algorithms. Qiskit is short for quantum information science kit."
   ]
  },
  {
   "cell_type": "code",
   "execution_count": 1,
   "id": "6c4b3827-7e54-4873-a288-351936667589",
   "metadata": {
    "tags": []
   },
   "outputs": [],
   "source": [
    "from qiskit import QuantumCircuit"
   ]
  },
  {
   "cell_type": "code",
   "execution_count": 2,
   "metadata": {},
   "outputs": [
    {
     "data": {
      "image/png": "[encoded data removed]",
      "text/plain": [
       "<Figure size 538.128x284.278 with 1 Axes>"
      ]
     },
     "execution_count": 2,
     "metadata": {},
     "output_type": "execute_result"
    }
   ],
   "source": [
    "bell_state = QuantumCircuit(2,2)\n",
    "bell_state.h(0)\n",
    "bell_state.cx(0,1)\n",
    "bell_state.barrier(range(2))\n",
    "bell_state.measure(range(2), range(2))\n",
    "bell_state.draw('mpl')"
   ]
  },
  {
   "cell_type": "code",
   "execution_count": 3,
   "metadata": {},
   "outputs": [],
   "source": [
    "from qiskit import transpile\n",
    "from qiskit_aer import AerSimulator"
   ]
  },
  {
   "cell_type": "code",
   "execution_count": 4,
   "metadata": {},
   "outputs": [
    {
     "data": {
      "text/plain": [
       "{'00': 509, '11': 515}"
      ]
     },
     "execution_count": 4,
     "metadata": {},
     "output_type": "execute_result"
    }
   ],
   "source": [
    "backend = AerSimulator()\n",
    "\n",
    "# transpile\n",
    "bell_state_compiled = transpile(bell_state, backend)\n",
    "\n",
    "# run the simulator\n",
    "# measure for 1024 times (default value)\n",
    "job_sim = backend.run(bell_state_compiled, shots=1024)\n",
    "\n",
    "# get results\n",
    "result_sim = job_sim.result()\n",
    "\n",
    "# get the counts attribute of the result\n",
    "counts = result_sim.get_counts(bell_state_compiled)\n",
    "counts"
   ]
  },
  {
   "attachments": {},
   "cell_type": "markdown",
   "metadata": {},
   "source": [
    "## Quimb for Tensor Networks"
   ]
  },
  {
   "attachments": {},
   "cell_type": "markdown",
   "metadata": {},
   "source": [
    "Quimb is a library for quantum information many-body calculation, focusing primarily on tensor networks."
   ]
  },
  {
   "cell_type": "code",
   "execution_count": 1,
   "id": "149bc4cb-00d6-42e8-8868-5e77d0134516",
   "metadata": {
    "tags": []
   },
   "outputs": [],
   "source": [
    "import quimb as qu\n",
    "import quimb.tensor as qtn\n",
    "import numpy as np"
   ]
  },
  {
   "cell_type": "code",
   "execution_count": 2,
   "metadata": {},
   "outputs": [
    {
     "data": {
      "image/png": "[encoded data removed]",
      "text/plain": [
       "<Figure size 600x600 with 1 Axes>"
      ]
     },
     "metadata": {},
     "output_type": "display_data"
    }
   ],
   "source": [
    "num_qubits = 2\n",
    "quick_contract = qtn.Circuit(num_qubits)\n",
    "quick_contract.apply_gate('H', 0, gate_round=0)\n",
    "\n",
    "I = qu.core.identity(num_qubits)\n",
    "quick_contract.apply_gate_raw(I, (1,), gate_round=0, tags=\"I\")\n",
    "\n",
    "quick_contract.apply_gate('CX', 0, 1, gate_round=1)\n",
    "\n",
    "quick_contract.psi.draw(color=['PSI0'] + [f'ROUND_{i}' for i in range(num_qubits)])"
   ]
  },
  {
   "cell_type": "code",
   "execution_count": 3,
   "metadata": {},
   "outputs": [
    {
     "data": {
      "image/png": "[encoded data removed]",
      "text/plain": [
       "<Figure size 600x600 with 1 Axes>"
      ]
     },
     "metadata": {},
     "output_type": "display_data"
    }
   ],
   "source": [
    "quick_contract = quick_contract.psi.contract()\n",
    "quick_contract.draw(color=['PSI0'] + [f'ROUND_{i}' for i in range(num_qubits)])"
   ]
  },
  {
   "cell_type": "code",
   "execution_count": 4,
   "metadata": {},
   "outputs": [
    {
     "data": {
      "text/plain": [
       "{'11': 507, '00': 517}"
      ]
     },
     "execution_count": 4,
     "metadata": {},
     "output_type": "execute_result"
    }
   ],
   "source": [
    "samples = 1024\n",
    "statevector = quick_contract.data.reshape(4,1)\n",
    "results = qu.simulate_counts(statevector, samples)\n",
    "results"
   ]
  },
  {
   "attachments": {},
   "cell_type": "markdown",
   "metadata": {},
   "source": [
    "## DDSIM for Decision Diagrams"
   ]
  },
  {
   "attachments": {},
   "cell_type": "markdown",
   "metadata": {},
   "source": [
    "MQT DDSIM is a tool for simulating quantum circuits on classical computers by the Chair for Design Automation at the Technical University of Munich. It is free and open-source and can be downloaded from their github page."
   ]
  },
  {
   "cell_type": "code",
   "execution_count": 1,
   "metadata": {},
   "outputs": [],
   "source": [
    "from qiskit import QuantumCircuit\n",
    "from mqt.ddsim import CircuitSimulator"
   ]
  },
  {
   "cell_type": "code",
   "execution_count": 2,
   "metadata": {},
   "outputs": [
    {
     "data": {
      "text/plain": [
       "<qiskit.circuit.instructionset.InstructionSet at 0x7fcbfb3adf30>"
      ]
     },
     "execution_count": 2,
     "metadata": {},
     "output_type": "execute_result"
    }
   ],
   "source": [
    "sample_circuit = QuantumCircuit(2)\n",
    "sample_circuit.h(0)\n",
    "sample_circuit.cx(0,1)"
   ]
  },
  {
   "cell_type": "code",
   "execution_count": 3,
   "metadata": {},
   "outputs": [
    {
     "data": {
      "text/plain": [
       "{'00': 497, '11': 527}"
      ]
     },
     "execution_count": 3,
     "metadata": {},
     "output_type": "execute_result"
    }
   ],
   "source": [
    "circuit_sim = CircuitSimulator(sample_circuit)\n",
    "result = circuit_sim.simulate(shots=1024)\n",
    "result"
   ]
  },
  {
   "cell_type": "code",
   "execution_count": 4,
   "metadata": {},
   "outputs": [
    {
     "data": {
      "text/plain": [
       "[(0.7071067811865476+0j), 0j, 0j, (0.7071067811865476+0j)]"
      ]
     },
     "execution_count": 4,
     "metadata": {},
     "output_type": "execute_result"
    }
   ],
   "source": [
    "sv = circuit_sim.get_vector()\n",
    "sv"
   ]
  },
  {
   "cell_type": "code",
   "execution_count": 5,
   "metadata": {},
   "outputs": [],
   "source": [
    "import graphviz"
   ]
  },
  {
   "cell_type": "code",
   "execution_count": null,
   "metadata": {},
   "outputs": [
    {
     "data": {
      "image/svg+xml": "<?xml version=\"1.0\" encoding=\"UTF-8\" standalone=\"no\"?>\n<!DOCTYPE svg PUBLIC \"-//W3C//DTD SVG 1.1//EN\"\n \"http://www.w3.org/Graphics/SVG/1.1/DTD/svg11.dtd\">\n<!-- Generated by graphviz version 2.43.0 (0)\n -->\n<!-- Title: DD Pages: 1 -->\n<svg width=\"93pt\" height=\"224pt\"\n viewBox=\"0.00 0.00 92.81 223.60\" xmlns=\"http://www.w3.org/2000/svg\" xmlns:xlink=\"http://www.w3.org/1999/xlink\">\n<g id=\"graph0\" class=\"graph\" transform=\"scale(1 1) rotate(0) translate(4 219.6)\">\n<title>DD</title>\n<polygon fill=\"white\" stroke=\"transparent\" points=\"-4,4 -4,-219.6 88.81,-219.6 88.81,4 -4,4\"/>\n<!-- root -->\n<!-- 308240 -->\n<g id=\"node3\" class=\"node\">\n<title>308240</title>\n<g id=\"a_node3\"><a xlink:title=\"q1\">\n<text text-anchor=\"start\" x=\"32.4\" y=\"-158.5\" font-family=\"Times,serif\" font-size=\"20.00\">q</text>\n<text text-anchor=\"start\" x=\"45.4\" y=\"-158.5\" font-family=\"Times,serif\" baseline-shift=\"sub\" font-size=\"12.00\">1</text>\n<g id=\"a_node3_0\"><a xlink:href=\"javascript:;\" xlink:title=\"1/√2\">\n<polyline fill=\"none\" stroke=\"black\" points=\"42.4,-139.5 42.4,-150.5 28.4,-150.5 \"/>\n<text text-anchor=\"start\" x=\"30.4\" y=\"-143.1\" font-family=\"Times,serif\" font-size=\"8.00\" fill=\"white\"> 0 </text>\n</a>\n</g>\n<g id=\"a_node3_1\"><a xlink:href=\"javascript:;\" xlink:title=\"1/√2\">\n<polyline fill=\"none\" stroke=\"black\" points=\"56.4,-150.5 42.4,-150.5 42.4,-139.5 \"/>\n<text text-anchor=\"start\" x=\"44.4\" y=\"-143.1\" font-family=\"Times,serif\" font-size=\"8.00\" fill=\"white\"> 0 </text>\n</a>\n</g>\n<path fill=\"none\" stroke=\"black\" d=\"M37.4,-139C37.4,-139 47.4,-139 47.4,-139 52.4,-139 57.4,-144 57.4,-149 57.4,-149 57.4,-166 57.4,-166 57.4,-171 52.4,-176 47.4,-176 47.4,-176 37.4,-176 37.4,-176 32.4,-176 27.4,-171 27.4,-166 27.4,-166 27.4,-149 27.4,-149 27.4,-144 32.4,-139 37.4,-139\"/>\n</a>\n</g>\n</g>\n<!-- root&#45;&gt;308240 -->\n<g id=\"edge1\" class=\"edge\">\n<title>root&#45;&gt;308240</title>\n<g id=\"a_edge1\"><a xlink:title=\"1\">\n<path fill=\"none\" stroke=\"#bf3f3f\" stroke-width=\"3\" d=\"M42.4,-211.86C42.4,-207.63 42.4,-190.04 42.4,-176.2\"/>\n</a>\n</g>\n</g>\n<!-- t -->\n<g id=\"node2\" class=\"node\">\n<title>t</title>\n<g id=\"a_node2\"><a xlink:title=\"1\">\n<polygon fill=\"none\" stroke=\"black\" points=\"56.9,-30 27.9,-30 27.9,0 56.9,0 56.9,-30\"/>\n<text text-anchor=\"start\" x=\"35.9\" y=\"-10\" font-family=\"Times,serif\" font-size=\"20.00\">1</text>\n</a>\n</g>\n</g>\n<!-- 308208 -->\n<g id=\"node4\" class=\"node\">\n<title>308208</title>\n<g id=\"a_node4\"><a xlink:title=\"q0\">\n<text text-anchor=\"start\" x=\"56.4\" y=\"-85.5\" font-family=\"Times,serif\" font-size=\"20.00\">q</text>\n<text text-anchor=\"start\" x=\"69.4\" y=\"-85.5\" font-family=\"Times,serif\" baseline-shift=\"sub\" font-size=\"12.00\">0</text>\n<g id=\"a_node4_2\"><a xlink:href=\"javascript:;\" xlink:title=\"0\">\n<polyline fill=\"none\" stroke=\"black\" points=\"66.4,-66.5 66.4,-77.5 52.4,-77.5 \"/>\n<text text-anchor=\"start\" x=\"54.4\" y=\"-70.1\" font-family=\"Times,serif\" font-size=\"8.00\"> 0 </text>\n</a>\n</g>\n<g id=\"a_node4_3\"><a xlink:href=\"javascript:;\" xlink:title=\"1\">\n<polyline fill=\"none\" stroke=\"black\" points=\"80.4,-77.5 66.4,-77.5 66.4,-66.5 \"/>\n<text text-anchor=\"start\" x=\"68.4\" y=\"-70.1\" font-family=\"Times,serif\" font-size=\"8.00\" fill=\"white\"> 0 </text>\n</a>\n</g>\n<path fill=\"none\" stroke=\"black\" d=\"M61.4,-66C61.4,-66 71.4,-66 71.4,-66 76.4,-66 81.4,-71 81.4,-76 81.4,-76 81.4,-93 81.4,-93 81.4,-98 76.4,-103 71.4,-103 71.4,-103 61.4,-103 61.4,-103 56.4,-103 51.4,-98 51.4,-93 51.4,-93 51.4,-76 51.4,-76 51.4,-71 56.4,-66 61.4,-66\"/>\n</a>\n</g>\n</g>\n<!-- 308240&#45;&gt;308208 -->\n<g id=\"edge2\" class=\"edge\">\n<title>308240:se&#45;&gt;308208</title>\n<g id=\"a_edge2\"><a xlink:title=\"1/√2\">\n<path fill=\"none\" stroke=\"#bf3f3f\" stroke-width=\"2.12\" d=\"M56.4,-139C65.62,-129.78 67.81,-114.95 67.87,-103.24\"/>\n</a>\n</g>\n</g>\n<!-- 308080 -->\n<g id=\"node5\" class=\"node\">\n<title>308080</title>\n<g id=\"a_node5\"><a xlink:title=\"q0\">\n<text text-anchor=\"start\" x=\"8.4\" y=\"-85.5\" font-family=\"Times,serif\" font-size=\"20.00\">q</text>\n<text text-anchor=\"start\" x=\"21.4\" y=\"-85.5\" font-family=\"Times,serif\" baseline-shift=\"sub\" font-size=\"12.00\">0</text>\n<g id=\"a_node5_4\"><a xlink:href=\"javascript:;\" xlink:title=\"1\">\n<polyline fill=\"none\" stroke=\"black\" points=\"18.4,-66.5 18.4,-77.5 4.4,-77.5 \"/>\n<text text-anchor=\"start\" x=\"6.4\" y=\"-70.1\" font-family=\"Times,serif\" font-size=\"8.00\" fill=\"white\"> 0 </text>\n</a>\n</g>\n<g id=\"a_node5_5\"><a xlink:href=\"javascript:;\" xlink:title=\"0\">\n<polyline fill=\"none\" stroke=\"black\" points=\"32.4,-77.5 18.4,-77.5 18.4,-66.5 \"/>\n<text text-anchor=\"start\" x=\"20.4\" y=\"-70.1\" font-family=\"Times,serif\" font-size=\"8.00\"> 0 </text>\n</a>\n</g>\n<path fill=\"none\" stroke=\"black\" d=\"M13.4,-66C13.4,-66 23.4,-66 23.4,-66 28.4,-66 33.4,-71 33.4,-76 33.4,-76 33.4,-93 33.4,-93 33.4,-98 28.4,-103 23.4,-103 23.4,-103 13.4,-103 13.4,-103 8.4,-103 3.4,-98 3.4,-93 3.4,-93 3.4,-76 3.4,-76 3.4,-71 8.4,-66 13.4,-66\"/>\n</a>\n</g>\n</g>\n<!-- 308240&#45;&gt;308080 -->\n<g id=\"edge3\" class=\"edge\">\n<title>308240:sw&#45;&gt;308080</title>\n<g id=\"a_edge3\"><a xlink:title=\"1/√2\">\n<path fill=\"none\" stroke=\"#bf3f3f\" stroke-width=\"2.12\" d=\"M28.4,-139C19.18,-129.78 17,-114.95 16.94,-103.24\"/>\n</a>\n</g>\n</g>\n<!-- 308208&#45;&gt;t -->\n<g id=\"edge4\" class=\"edge\">\n<title>308208:se&#45;&gt;t</title>\n<g id=\"a_edge4\"><a xlink:title=\"1\">\n<path fill=\"none\" stroke=\"#bf3f3f\" stroke-width=\"3\" d=\"M80.4,-66C93.43,-52.97 72.7,-35.35 57.1,-24.88\"/>\n</a>\n</g>\n</g>\n<!-- 308080&#45;&gt;t -->\n<g id=\"edge5\" class=\"edge\">\n<title>308080:sw&#45;&gt;t</title>\n<g id=\"a_edge5\"><a xlink:title=\"1\">\n<path fill=\"none\" stroke=\"#bf3f3f\" stroke-width=\"3\" d=\"M4.4,-66C-8.62,-52.97 12.11,-35.35 27.71,-24.88\"/>\n</a>\n</g>\n</g>\n</g>\n</svg>\n",
      "text/plain": [
       "<graphviz.sources.Source at 0x7f103a64ef80>"
      ]
     },
     "metadata": {},
     "output_type": "display_data"
    }
   ],
   "source": [
    "circuit_viz = circuit_sim.export_dd_to_graphviz_str(\n",
    "    colored=True,\n",
    "    edge_labels=False,\n",
    "    classic=False,\n",
    "    memory=False,\n",
    "    format_as_polar=True\n",
    ")\n",
    "\n",
    "graphviz.Source(source=circuit_viz)"
   ]
  },
  {
   "attachments": {},
   "cell_type": "markdown",
   "metadata": {},
   "source": [
    "## References\n",
    "\n",
    "1. What is a Tech Stack: Examples, Components, and Diagrams. (n.d.). Heap. https://www.heap.io/topics/what-is-a-tech-stack\n",
    "2. Microsoft. Azure Quantum | Quantum computing stack. (n.d.). https://quantum.microsoft.com/en-us/explore/concepts/quantum-computing-stack\n",
    "3. Ballon, A. (2023). Neutral-atom quantum computers. PennyLane Demos. https://pennylane.ai/qml/demos/tutorial_neutral_atoms\n",
    "4. Ballon, A. (2022). Photonic quantum computers. PennyLane Demos. https://pennylane.ai/qml/demos/tutorial_photonics\n",
    "5. What is Quantum Annealing? — D-Wave System Documentation  documentation. (n.d.). https://docs.dwavesys.com/docs/latest/c_gs_2.html\n",
    "6. Ballon, A. (2022b). Trapped ion quantum computers. PennyLane Demos. https://pennylane.ai/qml/demos/tutorial_trapped_ions#id1\n",
    "7. Qiskit contributors. (2023). Qiskit: An Open-source Framework for Quantum Computing.\n",
    "8. Gray, (2018). quimb: A python package for quantum information and many-body calculations. Journal of Open Source Software, 3(29), 819, https://doi.org/10.21105/joss.00819\n",
    "9. Robert Wille, Stefan Hillmich, and Lukas Burgholzer. JKQ: JKU tools for quantum computing. In International Conference On Computer Aided Design. 2020.\n",
    "10. Dave Wecker, & Krysta M.~Svore. (2014). LIQUi|>: A Software Design Architecture and Domain-Specific Language for Quantum Computing.\n",
    "11. Merritt, R. (2022, September 16). What is a QPU? | NVIDIA Blogs. NVIDIA Blog. https://blogs.nvidia.com/blog/2022/07/29/what-is-a-qpu/\n",
    "12. Ville Bergholm et al. PennyLane: Automatic differentiation of hybrid quantum-classical computations. 2018. arXiv:1811.04968\n",
    "\n"
   ]
  },
  {
   "cell_type": "markdown",
   "metadata": {},
   "source": []
  }
 ],
 "metadata": {
  "kernelspec": {
   "display_name": "Python 3 (ipykernel)",
   "language": "python",
   "name": "python3"
  },
  "language_info": {
   "codemirror_mode": {
    "name": "ipython",
    "version": 3
   },
   "file_extension": ".py",
   "mimetype": "text/x-python",
   "name": "python",
   "nbconvert_exporter": "python",
   "pygments_lexer": "ipython3",
   "version": "3.10.12"
  },
  "orig_nbformat": 4
 },
 "nbformat": 4,
 "nbformat_minor": 2
}
