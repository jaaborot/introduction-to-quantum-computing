{
 "cells": [
  {
   "attachments": {},
   "cell_type": "markdown",
   "id": "34bf226d-b8ec-4f94-9f69-ac7c447842b5",
   "metadata": {},
   "source": [
    "# Introduction to Quantum Computing\n",
    "*by Ross Mariano*\n",
    "\n",
    "```{contents}\n",
    "\n",
    "```"
   ]
  },
  {
   "attachments": {},
   "cell_type": "markdown",
   "id": "05389134",
   "metadata": {},
   "source": [
    "## Quantum Computation\n",
    "Before we go to quantum information and quantum computing, let us review how things are done classically.\n",
    "\n",
    "Classically, we store information in a computer using a *bit* short for *binary digit*. A bit is either a 0 or 1, which you can think of as answering a question with yes or no. Due to this, we mathematically represent classical calculations in base 2 or *binary* numbers.\n",
    "\n",
    "How many bits do we need to represent some state? Suppose we have four numbers (0,1,2,3), we can represent it as follows.\n",
    "\n",
    "| Number | Binary |\n",
    "|--------|--------|\n",
    "| 0      | 00     |\n",
    "| 1      | 01     |\n",
    "| 2      | 10     |\n",
    "| 3      | 11     |\n",
    "\n",
    "We can see that we used two bits to obtain 4 different binary numbers to represent 0,1,2,3.\n",
    "\n",
    "In general, we will need $n$ bits to represent $m$ different states.\n",
    "\n",
    "$$\n",
    "2^{n} \\geq m\n",
    "$$"
   ]
  },
  {
   "attachments": {},
   "cell_type": "markdown",
   "id": "42b80381",
   "metadata": {},
   "source": [
    "Quantum computation and quantum information is the study of the information processing tasks that can be accomplished using quantum mechanical systems.\n",
    "\n",
    "Analogous to the *classical bit*, we have the *quantum bit* or *qubit* in quantum computing/information. Similar to the classical bit which has a state of either 0 **or** 1, a qubit has states $|0\\rangle$ **and** $|1\\rangle$. The difference between the bit and qubit, is that the qubit is **not** restricted to one state. It is possible to form *linear combinations* of qubit states, also known as *superposition*.\n",
    "\n",
    "$$\n",
    "|\\psi \\rangle = \\alpha |0\\rangle + \\beta |1\\rangle\n",
    "$$"
   ]
  },
  {
   "attachments": {},
   "cell_type": "markdown",
   "id": "0d0da89d",
   "metadata": {},
   "source": [
    "The numbers $\\alpha$ and $\\beta$ are complex numbers. $|\\psi\\rangle$ is the state of the qubit and is a vector in a two-dimensional complex vector space.\n",
    "\n",
    "We often represent these vectors as vectors in the Bloch sphere. This is a useful tool for visualizing the state of a single qubit."
   ]
  },
  {
   "attachments": {},
   "cell_type": "markdown",
   "id": "fec3e46d-0ad1-4777-a75b-8f39264dbc5e",
   "metadata": {},
   "source": [
    "## Quantum Gates\n",
    "\n",
    "Quantum logic gates or quantum gates are the quantum computing equivalents of the classical logic gates in classic computing. Similar to classical logic gates manipulating bits, quantum gates are used to manipulate qubits. These are the components used for creating quantum circuits.\n",
    "\n",
    "Mathematically speaking, a quantum gate *transforms* the quantum state of a qubit into another quantum state. For general quantum gates, we use $U$. These are represented as matrices.\n",
    "\n",
    "$$\n",
    "U|0\\rangle = |1\\rangle\\\\\n",
    "U|1\\rangle = |0\\rangle\n",
    "$$"
   ]
  },
  {
   "attachments": {},
   "cell_type": "markdown",
   "id": "f42c4a50-a433-4fbc-a133-8b6ffd789938",
   "metadata": {},
   "source": [
    "### Properties of Quantum Gates\n",
    "\n",
    "- Linear property\n",
    "\n",
    "$$\n",
    "U(\\alpha|0\\rangle + \\beta|1\\rangle) = \\alpha U|0\\rangle + \\beta U|1\\rangle\n",
    "$$\n",
    "- Probability must be equal to 1\n",
    "\n",
    "$$\n",
    "|\\alpha|^2 + |\\beta|^2 = 1\n",
    "$$"
   ]
  },
  {
   "attachments": {},
   "cell_type": "markdown",
   "id": "391871f9",
   "metadata": {},
   "source": [
    "- Quantum logic gates are reversible. A quantum gate $U$ is *reversible* or *invertible* if there exists a matrix $U^{-1}$ such that\n",
    "\n",
    "$$\n",
    "U^{-1}U = UU^{-1} = 1\n",
    "$$\n",
    "\n",
    "This means that if we have an output state $| \\phi \\rangle = U |\\psi\\rangle$, we can determine the initial state with the conjugate transpose $U^{-1}|\\phi\\rangle = |\\psi\\rangle$."
   ]
  },
  {
   "attachments": {},
   "cell_type": "markdown",
   "id": "4123cd56-2923-4312-a59c-3e1c38e5989b",
   "metadata": {},
   "source": [
    "### One Qubit Quantum Gates"
   ]
  },
  {
   "attachments": {},
   "cell_type": "markdown",
   "id": "14162f9c",
   "metadata": {},
   "source": [
    "Here are the *basic* gates that we use in quantum computing."
   ]
  },
  {
   "attachments": {},
   "cell_type": "markdown",
   "id": "eee6fdc6-be9a-4e4b-b612-a743902138e7",
   "metadata": {},
   "source": [
    "### Identity Gate\n",
    "This gate preserves the quantum state\n",
    "\n",
    "$$\n",
    "I = \\begin{bmatrix}\n",
    "1 & 0\\\\\n",
    "0 & 1\n",
    "\\end{bmatrix}\\\\\n",
    "I|0\\rangle = |0\\rangle\\\\\n",
    "I|1\\rangle = |1\\rangle\n",
    "$$"
   ]
  },
  {
   "attachments": {},
   "cell_type": "markdown",
   "id": "40ab89ab-9a16-416b-a7ef-f21bf534510f",
   "metadata": {},
   "source": [
    "### Pauli X Gate\n",
    "Also known as X, NOT, or $\\sigma_x$. This performs a *bit flip* on the quantum state via a 180 degree rotation along the x-axis.\n",
    "\n",
    "$$\n",
    "X=\\begin{bmatrix}\n",
    "0 & 1\\\\\n",
    "1 & 0\n",
    "\\end{bmatrix}\\\\\n",
    "X|0\\rangle = |1\\rangle\\\\\n",
    "X|1\\rangle = |0\\rangle\n",
    "$$"
   ]
  },
  {
   "attachments": {},
   "cell_type": "markdown",
   "id": "bb321aa1",
   "metadata": {},
   "source": [
    "Bloch sphere representation of the $X$ gate. This is a $180^{\\circ}$ rotation along the $x$-axis.\n",
    "\n",
    "```{image} ./images/chapter4-state-0.png\n",
    ":height: 300px\n",
    "```\n",
    "```{image} ./images/chapter4-state-1.png\n",
    ":height: 300px\n",
    "```"
   ]
  },
  {
   "attachments": {},
   "cell_type": "markdown",
   "id": "5607a09b-f04f-470e-8d79-7b52f4d716df",
   "metadata": {},
   "source": [
    "### Pauli Y Gate\n",
    "Also known as Y, or $\\sigma_y$. This performs a *bit flip* and *phase flip* on the quantum state via a 180 degree rotation along the y-axis.\n",
    "\n",
    "$$\n",
    "Y=\\begin{bmatrix}\n",
    "0 & -i\\\\\n",
    "i & 0\n",
    "\\end{bmatrix}\\\\\n",
    "Y|0\\rangle = i|1\\rangle\\\\\n",
    "Y|1\\rangle = -i|0\\rangle\n",
    "$$"
   ]
  },
  {
   "attachments": {},
   "cell_type": "markdown",
   "id": "99e261c4",
   "metadata": {},
   "source": [
    "This is the first gate we've seen that has a coefficient. Let us check if this is a valid quantum gate. We check by calculating if the total probability is 1.\n",
    "\n",
    "$$\n",
    "\\begin{align*}\n",
    "Y(\\alpha|0\\rangle + \\beta|1\\rangle) &= \\alpha Y|0\\rangle + \\beta Y|1\\rangle\\\\\n",
    "&=\\alpha i |1\\rangle - \\beta i |0\\rangle\\\\\n",
    "&= -\\beta i |0\\rangle + \\alpha i |1\\rangle\\\\\n",
    "\\\\\n",
    "|-\\beta i|^2 + |\\alpha i|^2 &= (-\\beta i)(\\beta^* i) + (\\alpha i)(-\\alpha^* i)\\\\\n",
    "&= |\\beta|^2 + |\\alpha|^2\\\\\n",
    "|-\\beta i|^2 + |\\alpha i|^2 &= 1\n",
    "\\end{align*}\n",
    "$$\n",
    "\n",
    "$Y$ gate is a valid quantum gate."
   ]
  },
  {
   "attachments": {},
   "cell_type": "markdown",
   "id": "bb321aa1",
   "metadata": {},
   "source": [
    "Bloch sphere representation of the $Y$ gate. This is a $180^{\\circ}$ rotation along the $y$-axis. Notice that we get a different color representation. This is due to the $i$ coefficient which represents the angle and direction applied.\n",
    "\n",
    "```{image} ./images/chapter4-state-0.png\n",
    ":height: 300px\n",
    "```\n",
    "```{image} ./images/chapter4-state-y0.png\n",
    ":height: 300px\n",
    "```"
   ]
  },
  {
   "attachments": {},
   "cell_type": "markdown",
   "id": "7fb2e57f-71bc-4a27-bd60-b9cee5d1afd1",
   "metadata": {},
   "source": [
    "### Pauli Z Gate\n",
    "Also known as Z, or $\\sigma_z$. This performs a *phase flip* on the quantum state via a 180 degree rotation along the z-axis.\n",
    "\n",
    "$$\n",
    "Z=\\begin{bmatrix}\n",
    "1 & 0\\\\\n",
    "0 & -1\n",
    "\\end{bmatrix}\\\\\n",
    "Z|0\\rangle = |0\\rangle\\\\\n",
    "Z|1\\rangle = -|1\\rangle\n",
    "$$"
   ]
  },
  {
   "attachments": {},
   "cell_type": "markdown",
   "id": "bb321aa1",
   "metadata": {},
   "source": [
    "Bloch sphere representation of the $Z$ gate. This is a $180^{\\circ}$ rotation along the $z$-axis. Notice that we get a different color representation. This is due to the coefficients which represents the angle and direction applied.\n",
    "\n",
    "```{image} ./images/chapter4-state-1.png\n",
    ":height: 300px\n",
    "```\n",
    "```{image} ./images/chapter4-state-z1.png\n",
    ":height: 300px\n",
    "```"
   ]
  },
  {
   "attachments": {},
   "cell_type": "markdown",
   "id": "9629b07c-c927-4b28-8839-de9fe9a2557c",
   "metadata": {},
   "source": [
    "### Hadamard Gate\n",
    "Also known as $H$. This puts the qubit into a superposition.\n",
    "\n",
    "$$\n",
    "H=\\frac{1}{\\sqrt{2}}\\begin{bmatrix}\n",
    "1 & 1\\\\\n",
    "1 & -1\n",
    "\\end{bmatrix}\\\\\n",
    "H|0\\rangle = \\frac{1}{\\sqrt{2}}(|0\\rangle + |1\\rangle) = |+\\rangle\\\\\n",
    "H|1\\rangle = \\frac{1}{\\sqrt{2}}(|0\\rangle - |1\\rangle) = |-\\rangle\n",
    "$$"
   ]
  },
  {
   "attachments": {},
   "cell_type": "markdown",
   "id": "ce9f7f48",
   "metadata": {},
   "source": [
    "This gate creates a superposition between states. This is a rotation about the $x$ and $z$ axis by $180^{\\circ}$.\n",
    "\n",
    "Here we see $H|0\\rangle$ on the Bloch sphere\n",
    "\n",
    "```{image} ./images/chapter4-state-0.png\n",
    ":height: 300px\n",
    "```\n",
    "```{image} ./images/chapter4-state-h0.png\n",
    ":height: 300px\n",
    "```"
   ]
  },
  {
   "attachments": {},
   "cell_type": "markdown",
   "id": "ce9f7f48",
   "metadata": {},
   "source": [
    "Here we see $H|1\\rangle$ on the Bloch sphere\n",
    "\n",
    "```{image} ./images/chapter4-state-1.png\n",
    ":height: 300px\n",
    "```\n",
    "```{image} ./images/chapter4-state-h1.png\n",
    ":height: 300px\n",
    "```"
   ]
  },
  {
   "attachments": {},
   "cell_type": "markdown",
   "id": "c00671bb-dc2e-4701-bd48-f5274a7196a0",
   "metadata": {},
   "source": [
    "There are other single qubit gates such as 𝑆, 𝑇, 𝑅𝑋, 𝑅𝑌, 𝑅𝑍, 𝑈 etc. which also manipulate the qubit state by rotating.\n",
    "\n",
    "In a quantum circuit, gates are usually shown as boxes with their respective labels."
   ]
  },
  {
   "attachments": {},
   "cell_type": "markdown",
   "id": "0616b584-6662-49f6-9730-ecad7cc999b0",
   "metadata": {},
   "source": [
    "### Sample calculation\n",
    "Verify $H|0\\rangle = \\frac{1}{\\sqrt{2}}(|0\\rangle + |1\\rangle)$.\n",
    "\n",
    "$$\n",
    "\\begin{align*}\n",
    "H|0\\rangle &= \\frac{1}{\\sqrt{2}}\\begin{bmatrix}\n",
    "1 & 1\\\\\n",
    "1 & -1\n",
    "\\end{bmatrix}\\begin{bmatrix}\n",
    "1\\\\\n",
    "0\n",
    "\\end{bmatrix}\\\\\n",
    "&= \\frac{1}{\\sqrt{2}}\\begin{bmatrix}\n",
    "1 \\cdot 1 + 1 \\cdot 0\\\\\n",
    "1 \\cdot 1 - 1 \\cdot 0\n",
    "\\end{bmatrix}\\\\\n",
    "&= \\frac{1}{\\sqrt{2}}\\begin{bmatrix}\n",
    "1\\\\\n",
    "1\n",
    "\\end{bmatrix}\\\\\n",
    "&= \\frac{1}{\\sqrt{2}} \\left( \\begin{bmatrix}1\\\\0\\end{bmatrix} + \\begin{bmatrix}0\\\\1\\end{bmatrix} \\right)\\\\\n",
    "&= \\frac{1}{\\sqrt{2}} \\left( |0\\rangle + |1\\rangle \\right)\\\\\n",
    "H|0\\rangle &= \\frac{1}{\\sqrt{2}} \\left( |0\\rangle + |1\\rangle \\right) = |+\\rangle\n",
    "\\end{align*}\n",
    "$$"
   ]
  },
  {
   "attachments": {},
   "cell_type": "markdown",
   "id": "863a37d0",
   "metadata": {},
   "source": [
    "Let us check reversibility of $H$.\n",
    "\n",
    "$$\n",
    "\\begin{align*}\n",
    "H|+\\rangle &= H\\left( \\frac{1}{\\sqrt{2}}(|0\\rangle + |1\\rangle) \\right)\\\\\n",
    "&= \\frac{1}{\\sqrt{2}}(H|0\\rangle + H|1\\rangle)\\\\\n",
    "&= \\frac{1}{\\sqrt{2}}\\left( \\left( \\frac{1}{\\sqrt{2}}(|0\\rangle+|1\\rangle\\right) + \\left(\\frac{1}{\\sqrt{2}}(|0\\rangle-|1\\rangle\\right)\\right)\\\\\n",
    "&= \\frac{1}{2}(|0\\rangle + |1\\rangle + |0\\rangle - |1\\rangle)\\\\\n",
    "H|+\\rangle &= |0\\rangle\n",
    "\\end{align*}\n",
    "$$\n",
    "\n",
    "We got back to our original state by applying $H$"
   ]
  },
  {
   "attachments": {},
   "cell_type": "markdown",
   "id": "b8e0cd43-7a0e-4a2d-8883-27210d2d48d4",
   "metadata": {},
   "source": [
    "## Gates in *series*\n",
    "Multiple single gates"
   ]
  },
  {
   "attachments": {},
   "cell_type": "markdown",
   "id": "a669d8f0",
   "metadata": {},
   "source": [
    "Try solving *without* calculating\n",
    "\n",
    "$$\n",
    "HX|0\\rangle = H|1\\rangle = \\frac{1}{\\sqrt{2}}(|0\\rangle - |1\\rangle)\n",
    "$$"
   ]
  },
  {
   "attachments": {},
   "cell_type": "markdown",
   "id": "7994b737",
   "metadata": {},
   "source": [
    "We are expecting to get $|-\\rangle$. Now try calculating the matrices. We calculate the result of many single qubit gates via matrix multiplication. We call operations of gates in succession *gates in series*.\n",
    "\n",
    "$$\n",
    "\\begin{align*}\n",
    "HX|0\\rangle &= \\frac{1}{\\sqrt{2}}\\begin{bmatrix}\n",
    "1 & 1\\\\\n",
    "1 & -1\n",
    "\\end{bmatrix}\\begin{bmatrix}\n",
    "0 & 1\\\\\n",
    "1 & 0\n",
    "\\end{bmatrix}\\begin{bmatrix}\n",
    "1\\\\\n",
    "0\n",
    "\\end{bmatrix}\\\\\n",
    "&= \\frac{1}{\\sqrt{2}}\\begin{bmatrix}\n",
    "1 & 1\\\\\n",
    "-1 & 1\n",
    "\\end{bmatrix}\\begin{bmatrix}\n",
    "1\\\\\n",
    "0\n",
    "\\end{bmatrix}\\\\\n",
    "&= \\frac{1}{\\sqrt{2}}\\begin{bmatrix}\n",
    "1\\\\\n",
    "-1\n",
    "\\end{bmatrix}\\\\\n",
    "&= \\frac{1}{\\sqrt{2}}\\left( \\begin{bmatrix}\n",
    "1\\\\\n",
    "0\n",
    "\\end{bmatrix}-\\begin{bmatrix}\n",
    "0\\\\\n",
    "1\n",
    "\\end{bmatrix}\\right)\\\\\n",
    "&= \\frac{1}{\\sqrt{2}}\\left( |0\\rangle - |1\\rangle \\right)\\\\\n",
    "HX|0\\rangle &= |-\\rangle\n",
    "\\end{align*}\n",
    "$$"
   ]
  },
  {
   "attachments": {},
   "cell_type": "markdown",
   "id": "e2f89ea0",
   "metadata": {},
   "source": [
    "## Gates in *parallel*\n",
    "Gates in parallel is seen when calculating gates between multiple qubits. The primary operation is called the *tensor product*.\n",
    "\n",
    "Let us consider two qubits both initially in $|0\\rangle$. The initial state of the whole system is determined via the tensor product.\n",
    "\n",
    "$$\n",
    "|0\\rangle \\otimes |0\\rangle = |00\\rangle\\\\\n",
    "\\begin{bmatrix}\n",
    "1\\\\\n",
    "0\n",
    "\\end{bmatrix} \\otimes \\begin{bmatrix}\n",
    "1\\\\\n",
    "0\n",
    "\\end{bmatrix} = \\begin{bmatrix}\n",
    "1 \\begin{bmatrix}\n",
    "1\\\\\n",
    "0\n",
    "\\end{bmatrix}\\\\\n",
    "0 \\begin{bmatrix}\n",
    "1\\\\\n",
    "0\n",
    "\\end{bmatrix}\n",
    "\\end{bmatrix}=\\begin{bmatrix}\n",
    "1\\\\\n",
    "0\\\\\n",
    "0\\\\\n",
    "0\n",
    "\\end{bmatrix}\n",
    "$$\n",
    "\n",
    "We can think of $|00\\rangle$ as analogous to the classical bitstring $00$.\n",
    "For multiqubit states, we will use $|q_0q_1\\ldots q_n\\rangle$, where $n$ is the nth qubit."
   ]
  },
  {
   "attachments": {},
   "cell_type": "markdown",
   "id": "cdb7ff9d",
   "metadata": {},
   "source": [
    "## Quantum Circuit Model"
   ]
  },
  {
   "attachments": {},
   "cell_type": "markdown",
   "id": "b6035731",
   "metadata": {},
   "source": [
    "### Circuit diagram, single qubit\n",
    "Sequence of quantum gates applied to the qubits. This is the quantum equivalent of a classical circuit.\n",
    "\n",
    "Suppose a qubit $q$, and we want to apply gates $X$ then $Z$ then $H$, i.e. $HZX|q\\rangle$. The equivalent quantum circuit is as follows.\n",
    "\n",
    "![qc1](images/chapter4-qc1.png)\n",
    "\n",
    "Notice that the circuit diagram is \"written backwards\" compared to its mathematical expression.\n",
    "\n",
    "We can see that there are different components of a quantum circuit. First is the input qubit $q$, usually initialized as $|0\\rangle$. This is the qubit in which we perform our calculations on.\n",
    "\n",
    "Second is the quantum wire, the horizontal line seen in the figure. This dictates the flow of the which goes from left to right.\n",
    "\n",
    "Lastly, the quantum gates. As shown are the boxes with their respective labels corresponding to their operation."
   ]
  },
  {
   "attachments": {},
   "cell_type": "markdown",
   "id": "29f2f491",
   "metadata": {},
   "source": [
    "### Circuit diagram, multiple qubits\n",
    "\n",
    "![qc2](images/chapter4-qc2.png)\n",
    "\n",
    "For multiple qubits, we label the qubits as $q_n$ where $n$ is the nth qubit.\n",
    "\n",
    "We can separate these via its timesteps. We see that $q_0, q_1$ is the initial state or $t_0$. After one timestep, we apply $X \\otimes Z$. And for the last timestep, we apply $H$."
   ]
  },
  {
   "attachments": {},
   "cell_type": "markdown",
   "id": "f1a93704",
   "metadata": {},
   "source": [
    "The equivalent mathematical expression of the circuit above is \n",
    "\n",
    "$$\n",
    "(X \\otimes Z)(H)|q_0q_1\\rangle\n",
    "$$\n",
    "\n",
    "However, notice that $X\\otimes Z$ is a $4 \\times 4$ matrix and $H$ is a $2 \\times 2$ matrix. We cannot multiply such matrices.\n",
    "How do we fix this?\n",
    "\n",
    "Notice that below the $H$ gate, there is a blank space. This is actually the representation of the *identity* gate. Thus, the expression becomes,\n",
    "\n",
    "$$\n",
    "(X \\otimes Z)(H \\otimes I)|q_0q_1\\rangle\n",
    "$$\n",
    "\n",
    "Now assuming an initial state of $|00\\rangle$, we get a final state of\n",
    "\n",
    "$$\n",
    "|\\psi\\rangle = \\frac{1}{\\sqrt{2}}(|00\\rangle - |10\\rangle)\n",
    "$$"
   ]
  },
  {
   "attachments": {},
   "cell_type": "markdown",
   "id": "2c706367",
   "metadata": {},
   "source": [
    "### Multi-qubit gates\n",
    "These are quantum gates that act on multiple qubits *simultaneously*. Here, we introduce two qubit gates.\n",
    "\n",
    "An example of this is the Controlled-NOT gate(CNOT, CX). This gate acts on two qubits, named the *control qubit* and the *target qubit*.\n",
    "\n",
    "This gate performs an *if-else* like operation. The output of the target qubit is dependent on the control qubit."
   ]
  },
  {
   "attachments": {},
   "cell_type": "markdown",
   "id": "7b20179f",
   "metadata": {},
   "source": [
    "### CNOT gate\n",
    "The control qubit is denoted as a small dot, the target qubit is denoted by an $X$ gate. The line implies the control.\n",
    "\n",
    "The $X$ gate shown here is an alternative symbol for the $X$ gate, typically used for CNOT/CX gates.\n",
    "\n",
    "![cnot](images/chapter4-cnot.png)\n",
    "\n",
    "If control is $|0\\rangle$, do nothing to target.\n",
    "\n",
    "If control is $|1\\rangle$, apply $X$ gate to target.\n",
    "\n",
    "$$\n",
    "\\begin{align*}\n",
    "|q_0q_1\\rangle &\\mapsto |q_0q_1\\rangle\\\\\n",
    "|00\\rangle &\\mapsto |00\\rangle\\\\\n",
    "|01\\rangle &\\mapsto |01\\rangle\\\\\n",
    "|10\\rangle &\\mapsto |11\\rangle\\\\\n",
    "|11\\rangle &\\mapsto |10\\rangle\n",
    "\\end{align*}\n",
    "$$\n",
    "\n"
   ]
  },
  {
   "attachments": {},
   "cell_type": "markdown",
   "id": "84f50af5",
   "metadata": {},
   "source": [
    "Notice that for states $|00\\rangle$, $|01\\rangle$ we get the same output. This is because the control qubit is 0, thus we do not apply anything to the target qubit.\n",
    "\n",
    "For states $|10\\rangle$, $|11\\rangle$, we get different outputs. This is because the control qubit is 1, we flip the target qubit."
   ]
  },
  {
   "attachments": {},
   "cell_type": "markdown",
   "id": "541555d4",
   "metadata": {},
   "source": [
    "CNOT gate in matrix form\n",
    "\n",
    "$$\n",
    "CNOT = \\begin{bmatrix}\n",
    "1 & 0 & 0 & 0\\\\\n",
    "0 & 1 & 0 & 0\\\\\n",
    "0 & 0 & 0 & 1\\\\\n",
    "0 & 0 & 1 & 0\n",
    "\\end{bmatrix}\n",
    "$$\n",
    "\n",
    "CNOT gate in outer product form\n",
    "\n",
    "$$\n",
    "CNOT = |00\\rangle\\langle00| + |01\\rangle\\langle01| + |10\\rangle\\langle11| + |11\\rangle\\langle00| \n",
    "$$"
   ]
  },
  {
   "attachments": {},
   "cell_type": "markdown",
   "id": "308c42dd",
   "metadata": {},
   "source": [
    "There are numerous other multi-qubits gates such as CY, CZ, Controlled Phase, etc. for 2 qubits.\n",
    "\n",
    "Toffoli or CCNOT for 3 qubits"
   ]
  },
  {
   "attachments": {},
   "cell_type": "markdown",
   "id": "f0479d3b",
   "metadata": {},
   "source": [
    "### Application\n",
    "Now that we can construct circuits with multiple qubits and multiqubits gates. Let us try creating a circuit that creates entanglement."
   ]
  },
  {
   "attachments": {},
   "cell_type": "markdown",
   "id": "66cec21e",
   "metadata": {},
   "source": [
    "A quantum state \n",
    "\n",
    "$$\n",
    "|\\psi\\rangle = \\begin{bmatrix}\n",
    "a\\\\\n",
    "b\\\\\n",
    "c\\\\\n",
    "d\n",
    "\\end{bmatrix}\n",
    "$$\n",
    "\n",
    "is separable/not entangled if and only if\n",
    "\n",
    "$$\n",
    "ad=bc\n",
    "$$\n",
    "\n",
    "This means that we can separate or factor a quantum state into its basis states."
   ]
  },
  {
   "attachments": {},
   "cell_type": "markdown",
   "id": "09e3206b",
   "metadata": {},
   "source": [
    "### Bell state entanglement\n",
    "\n",
    "A quantum state \n",
    "\n",
    "$$\n",
    "|\\psi\\rangle = \\begin{bmatrix}\n",
    "a\\\\\n",
    "b\\\\\n",
    "c\\\\\n",
    "d\n",
    "\\end{bmatrix}\n",
    "$$\n",
    "\n",
    "is separable/not entangled if and only if\n",
    "\n",
    "$$\n",
    "ad=bc\n",
    "$$\n",
    "\n",
    "This means that we can separate or factor a quantum state into its basis states."
   ]
  },
  {
   "attachments": {},
   "cell_type": "markdown",
   "id": "15bbcf81",
   "metadata": {},
   "source": [
    "Consider the quantum state\n",
    "\n",
    "$$\n",
    "|\\psi\\rangle = \\frac{1}{2}(|00\\rangle - |01\\rangle + |10\\rangle - |11\\rangle) = \\begin{bmatrix}\n",
    "1/2\\\\\n",
    "-1/2\\\\\n",
    "1/2\\\\\n",
    "-1/2\n",
    "\\end{bmatrix}\n",
    "$$\n",
    "\n",
    "We can see that it satisfies\n",
    "\n",
    "$$\n",
    "\\begin{align*}\n",
    "ad &= bc\\\\\n",
    "-\\frac{1}{4} &= -\\frac{1}{4}\n",
    "\\end{align*}\n",
    "$$\n",
    "\n",
    "Let's try to separate them\n",
    "\n",
    "$$\n",
    "\\begin{align*}\n",
    "|\\psi\\rangle &= \\frac{1}{2}(|00\\rangle - |01\\rangle + |10\\rangle - |11\\rangle)\\\\\n",
    "&= \\frac{1}{2}(|0\\rangle \\otimes (|0\\rangle-|1\\rangle) + |1\\rangle \\otimes (|0\\rangle - |1\\rangle))\\\\\n",
    "&= \\frac{1}{2}\\left( (|0\\rangle + |1\\rangle) \\otimes (|0\\rangle - |1\\rangle) \\right)\\\\\n",
    "&= \\frac{1}{\\sqrt{2}} (|0\\rangle + |1\\rangle) \\otimes \\frac{1}{\\sqrt{2}}(|0\\rangle - |1\\rangle)\\\\\n",
    "|\\psi\\rangle &= |+\\rangle \\otimes |-\\rangle\n",
    "\\end{align*}\n",
    "$$\n",
    "\n",
    "We see that we can separate them into the Hadamard basis."
   ]
  },
  {
   "attachments": {},
   "cell_type": "markdown",
   "id": "fba2d836",
   "metadata": {},
   "source": [
    "How about the following state? Can we separate the state?\n",
    "\n",
    "$$\n",
    "|\\Phi^+\\rangle = \\frac{1}{\\sqrt{2}}(|00\\rangle + |11\\rangle)\n",
    "$$\n",
    "\n",
    "We find a state that could satisfy\n",
    "\n",
    "$$\n",
    "\\begin{align*}\n",
    "|\\psi_0\\psi_1\\rangle &= (\\alpha_0|0\\rangle + \\beta_0|1\\rangle)(\\alpha_1|0\\rangle + \\beta_1|1\\rangle)\\\\\n",
    "&= \\alpha_0\\alpha_1|00\\rangle + \\alpha_0\\beta_1|01\\rangle + \\beta_0\\alpha_1|10\\rangle + \\beta_0\\beta_1|11\\rangle\n",
    "\\end{align*}\n",
    "$$\n",
    "\n",
    "We can see that\n",
    "\n",
    "$$\n",
    "\\alpha_0\\alpha_1 = \\beta_0\\beta_1 = \\frac{1}{\\sqrt{2}}\\\\\n",
    "\\alpha_0\\beta_1 = \\beta_0\\alpha_1 = 0\n",
    "$$\n",
    "\n",
    "If we set at least one coefficient to 0, then we won't be able to get $\\frac{1}{\\sqrt{2}}$. Thus, the state is entangled. This specific state $|\\Phi^+\\rangle$ is called a **Bell state**."
   ]
  },
  {
   "attachments": {},
   "cell_type": "markdown",
   "id": "dcc480b4",
   "metadata": {},
   "source": [
    "### Circuit form of a Bell state\n",
    "\n",
    "Notice the states in $|\\Phi^+\\rangle$. There are two qubits $(|00\\rangle, |11\\rangle)$. Thus, we will need $q_0, q_1$.\n",
    "\n",
    "Now, notice that we have a superposition of two states. We will use a Hadamard gate. \n",
    "\n",
    "Since we know that the state is entangled, we need an operation that entangles the two qubits. This operation will be the CNOT gate.\n",
    "\n",
    "The Bell state circuit is then\n",
    "\n",
    "![bellstate](images/chapter4-bell.png)"
   ]
  },
  {
   "attachments": {},
   "cell_type": "markdown",
   "id": "3bf0aed1",
   "metadata": {},
   "source": [
    "## Quantum Circuit Complexity"
   ]
  },
  {
   "attachments": {},
   "cell_type": "markdown",
   "id": "d16dc52b",
   "metadata": {},
   "source": [
    "**Circuit complexity** of a quantum circuit refers to the least number of quantum gates, relative to some universal set of quantum gates. Note that this is different from **computational complexity** discussed from a previous lecture.\n",
    "\n",
    "We say that a quantum algorithm is *efficient* if it has polynomial circuit complexity. We quantify this using the circuit's **size**, which refers to the  number of gates a circuit contains.\n",
    "\n",
    "Why does this matter? There is a natural connection between circuit complexity and time complexity. Since gates are represented by matrices, and in quantum circuits we multiply matrices, then circuit complexity and time complexity are related."
   ]
  },
  {
   "attachments": {},
   "cell_type": "markdown",
   "id": "df2e8d6a",
   "metadata": {},
   "source": [
    "Let us consider a simple example. Say we want to get from $|0\\rangle$ to $-|1\\rangle$.\n",
    "\n",
    "Attempt 1, we apply the operation $YXY$\n",
    "\n",
    "$$\n",
    "\\begin{align*}\n",
    "Y|0\\rangle &= i|1\\rangle\\\\\n",
    "X(i|1\\rangle) &= i|0\\rangle\\\\\n",
    "Y(i|0\\rangle) &= i^2 |1\\rangle = -|1\\rangle\\\\\n",
    "\\Rightarrow YXY|0\\rangle &= -|1\\rangle\n",
    "\\end{align*}\n",
    "$$\n",
    "We can see that we achieved the desired state using 3 gates"
   ]
  },
  {
   "attachments": {},
   "cell_type": "markdown",
   "id": "7d5a3844",
   "metadata": {},
   "source": [
    "Can we do better?\n",
    "\n",
    "Attempt 2, we apply the operation $ZX$\n",
    "\n",
    "$$\n",
    "\\begin{align*}\n",
    "X|0\\rangle &= |1\\rangle\\\\\n",
    "Z|1\\rangle &= -|1\\rangle\\\\\n",
    "\\Rightarrow ZX|0\\rangle &= -|1\\rangle\n",
    "\\end{align*}\n",
    "$$\n",
    "We achieved the desired state using fewer gates. Thus, we found a more efficient circuit."
   ]
  },
  {
   "attachments": {},
   "cell_type": "markdown",
   "id": "e8f7abd0",
   "metadata": {},
   "source": [
    "For a more practical example, let us consider the Toffoli gate (also known as CCNOT). Suppose we are only allowed to use one and two qubit quantum gates. The Toffoli gate can be decomposed as follows\n",
    "\n",
    "```{image} ./images/chapter4-toffoli1.png\n",
    "\n",
    "```\n",
    "\n",
    "We can see that the Toffoli gate can be decomposed into 16 smaller gates, thus we have a circuit of size 16.\n",
    "\n",
    "However, similar to the previous example, we can achieve a lower circuit size. It is found that we can achieve a circuit size of 7.\n",
    "\n",
    "```{image} ./images/chapter4-toffoli2.png\n",
    "\n",
    "```"
   ]
  },
  {
   "attachments": {},
   "cell_type": "markdown",
   "id": "a820911b",
   "metadata": {},
   "source": [
    "This means that we can restate algorithms and gates to have reduced circuit complexity and thus reduced time complexity. However, circuit complexity is generally hard to find. There is no surefire way in reducing circuit complexity.\n",
    "\n",
    "To quantify this, we say an *efficient* quantum algorithm is one with a polynomial circuit complexity. Consider the quantum adder circuit. This circuit uses $4n-2$ Toffoli gates and $4n$ CNOT gates. Since we know we can express the Toffoli gates into 7 smaller one/two qubit gates, we get $7(4n-2)+4n=32n-14$ qubit gates, which is polynomial (specifically linear) in $n$. Therefore, we can say that the quantum adder circuit is an *efficient* algorithm."
   ]
  },
  {
   "attachments": {},
   "cell_type": "markdown",
   "id": "2dd023fc",
   "metadata": {},
   "source": [
    "## Alternative Models of Quantum Computation"
   ]
  },
  {
   "attachments": {},
   "cell_type": "markdown",
   "id": "2f1e50e6",
   "metadata": {},
   "source": [
    "### Tensor Networks"
   ]
  },
  {
   "attachments": {},
   "cell_type": "markdown",
   "id": "74c39225",
   "metadata": {},
   "source": [
    "Tensor networks are networks with tensors being reprsented by nodes. Tensors are a generalization of quantities such as scalars, vectors, and multilinear maps.\n",
    "\n",
    "```{image} ./images/chapter4-tn1.png\n",
    "\n",
    "```\n",
    "\n",
    "Tensor networks is a method used in simulating quantum circuits. Instead of expressing quantum circuit operations as mathematical expressions, we use diagrammatic visualizations to represent the quantum circuit. This makes it advantageous as the operations can be expressed without the extra notation. The relevant mathematical operations that tensor networks perform are matrix multiplication and tensor product.\n",
    "\n",
    "```{image} ./images/chapter4-tn2.png\n",
    "\n",
    "```"
   ]
  },
  {
   "attachments": {},
   "cell_type": "markdown",
   "id": "4c5b0b67",
   "metadata": {},
   "source": [
    "We calculate tensor networks by finding a *contraction path*, that is a sequence of possible multiplications that can be performed on the tensor network.\n",
    "\n",
    "Consider the hypothetical tensor network of length $N$.\n",
    "\n",
    "```{image} ./images/chapter4-tn3.png\n",
    "\n",
    "```\n",
    "\n",
    "We can multiply/contract *horizontally*. This will yield a tensor with $N$ edges.\n",
    "\n",
    "```{image} ./images/chapter4-tn4.png\n",
    "\n",
    "```\n",
    "\n",
    "Alternatively, we can multiply/contract *vertically*. This will yield a tensor with no more than 3 edges.\n",
    "\n",
    "```{image} ./images/chapter4-tn5.png\n",
    "\n",
    "```\n",
    "\n",
    "Therefore, we found a more space efficient method in calculating the tensor network."
   ]
  },
  {
   "attachments": {},
   "cell_type": "markdown",
   "id": "b8064e8d",
   "metadata": {},
   "source": [
    "Tensor network methodologies work best if there is a topological structure that can be exploited."
   ]
  },
  {
   "attachments": {},
   "cell_type": "markdown",
   "id": "4afc9be4",
   "metadata": {},
   "source": [
    "### Decision Diagrams"
   ]
  },
  {
   "attachments": {},
   "cell_type": "markdown",
   "id": "207d98f3",
   "metadata": {},
   "source": [
    "A decision diagram is a data structure representing Boolean functions. Decision diagrams are used to simulate quantum circuits by exploiting redudancies found in quantum circuits effectively creating a more compact representation."
   ]
  },
  {
   "attachments": {},
   "cell_type": "markdown",
   "id": "2ff7973a",
   "metadata": {},
   "source": [
    "Consider the a statevector of 3 qubits\n",
    "\n",
    "$$\n",
    "\\begin{align*}\n",
    "\\psi = \\left[ 0,0,\\frac{1}{2},0,\\frac{1}{2},0,-\\frac{1}{\\sqrt{2}},0 \\right]^{T}\n",
    "\\end{align*}\n",
    "$$\n",
    "\n",
    "We see that while the statevector has 8 entries, there are only 3 *unique* values $\\left(0,\\frac{1}{2},-\\frac{1}{\\sqrt{2}}\\right)$. We can create a representation with only 3 output values instead of 8.\n",
    "\n",
    "```{image} ./images/chapter4-dd1.png\n",
    "\n",
    "```"
   ]
  },
  {
   "attachments": {},
   "cell_type": "markdown",
   "id": "b95fde3d",
   "metadata": {},
   "source": [
    "## References\n",
    "\n",
    "1. McMahon, D. (2007). Quantum Computing explained. Wiley-IEEE Computer Society Press.\n",
    "2. Nielsen, M. A., & Chuang, I. L. (2010). Quantum computation and quantum information: 10th Anniversary Edition. Cambridge University Press.\n",
    "3. Wong, T. (2022). Introduction to classical and quantum computing.\n",
    "4. J. Biamonte and V. Bergholm, \"Tensor Networks in a Nutshell,\" 2017.\n",
    "5. R. Orus, \"A Practical Introduction to Tensor Networks: Matrix Product States and Projected Entangled Pair States,\" Annals of Physics, vol. 349, pp. 117-158, October 2014.\n",
    "6. Wille, R., Hillmich, S., & Burgholzer, L. (2022). Decision diagrams for quantum Computing. In Springer eBooks (pp. 1–23). https://doi.org/10.1007/978-3-031-15699-1_1\n"
   ]
  },
  {
   "cell_type": "markdown",
   "id": "586a0cb9",
   "metadata": {},
   "source": []
  }
 ],
 "metadata": {
  "kernelspec": {
   "display_name": "Julia 1.6.7",
   "language": "julia",
   "name": "."
  },
  "language_info": {
   "name": "julia"
  }
 },
 "nbformat": 4,
 "nbformat_minor": 5
}
