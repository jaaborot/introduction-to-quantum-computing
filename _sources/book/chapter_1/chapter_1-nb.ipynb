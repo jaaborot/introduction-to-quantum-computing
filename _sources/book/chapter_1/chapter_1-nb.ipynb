{
 "cells": [
  {
   "cell_type": "markdown",
   "metadata": {},
   "source": [
    "# Introduction to Classical Computing\n",
    "*by Jul Jon R. General*\n",
    "\n",
    "```{contents}\n",
    "\n",
    "```\n",
    "\n",
    "**Learning Objectives:**\n",
    "\n",
    "- Students will be able to discuss the basic principles of classical computing, with focus on the circuit model of computing and Boolean algebra.\n",
    "\n",
    "## Computational Problems and Their Inherent Hardness\n",
    "\n",
    "## Models of Computation\n",
    "\n",
    "## Circuit Model of Computation\n",
    "\n",
    "## Boolean Algebra\n",
    "\n",
    "## Reversible Computation\n",
    "\n",
    "## Computational Complexity\n"
   ]
  }
 ],
 "metadata": {
  "kernelspec": {
   "display_name": "Python 3 (ipykernel)",
   "language": "python",
   "name": "python3"
  },
  "language_info": {
   "codemirror_mode": {
    "name": "ipython",
    "version": 3
   },
   "file_extension": ".py",
   "mimetype": "text/x-python",
   "name": "python",
   "nbconvert_exporter": "python",
   "pygments_lexer": "ipython3",
   "version": "3.9.17"
  }
 },
 "nbformat": 4,
 "nbformat_minor": 4
}
