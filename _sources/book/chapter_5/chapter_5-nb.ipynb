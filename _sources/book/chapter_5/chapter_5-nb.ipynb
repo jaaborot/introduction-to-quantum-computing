{
 "cells": [
  {
   "cell_type": "markdown",
   "metadata": {},
   "source": [
    "# Quantum Algorithms and Their Advantages Over Classical Counterparts\n",
    "*by [yet to be determined]*"
   ]
  }
 ],
 "metadata": {
  "language_info": {
   "name": "python"
  },
  "orig_nbformat": 4
 },
 "nbformat": 4,
 "nbformat_minor": 2
}
