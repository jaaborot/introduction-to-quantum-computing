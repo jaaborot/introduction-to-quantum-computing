{
 "cells": [
  {
   "cell_type": "markdown",
   "metadata": {},
   "source": [
    "# COARE and ASTI’s Quantum Circuit Simulation Project \n",
    "*by [Cyrel Jon Fontelo]*"
   ]
  },
  {
   "cell_type": "markdown",
   "metadata": {},
   "source": [
    "## High-Performance Computing (HPC)\n",
    "\n",
    "*The topic will cover about the High-Performance Computing (HPC)*"
   ]
  },
  {
   "cell_type": "markdown",
   "metadata": {},
   "source": [
    "### Table of Contents\n",
    "\n",
    "- [Intoduction](#introduction)\n",
    "- [History](#history)\n",
    "- [DOST ASTI COARE](#asti-coare)\n",
    "  - [Services](#coare-services)\n",
    "- [Connect to a High-Performance Computing using CLI (command-line interface)](#connecttohpc)\n",
    "  - [Using terminal for Linux and macOS](#linux-terminal)\n",
    "  - [Using Putty for Windows](#putty)\n"
   ]
  },
  {
   "cell_type": "markdown",
   "metadata": {},
   "source": [
    "<h3 id=\"introduction\"></h3>\n",
    "\n",
    "### Introduction\n",
    "\n",
    "---\n",
    "\n",
    "High-Performance Computing (HPC) is the use of  multiple supercomputers to solve complex and high-speed computation problems that cannot be perform by the average computer.\n",
    "\n",
    "Supercomputer development were originally driven to be use in applications related to national security, including nuclear weapons design and cryptography. Later on this technology employed by the aerospace, automotive industries, scientific research, quantum mechanics, weather forecasting, engineering and more."
   ]
  },
  {
   "cell_type": "markdown",
   "metadata": {},
   "source": [
    "<h3 id=\"history\"></h3>\n",
    "\n",
    "### The First Supercomputer\n",
    "\n",
    "---\n",
    "\n",
    "CDC 6600 by [Seymour Cray](https://en.wikipedia.org/wiki/Seymour_Cray), 1964 \n",
    "\n",
    "In year 1964, The Control Data Corporation (CDC) 6600 was the first world's fastest computer to make an apperance. It was designed by Seymour Cray, with the peak performance of up to three million floating-point(FLOPS) or 3 Mega-FLOPS(MFLOPS), and the term *supercomputer* cast to describe it.\n",
    "\n",
    "\n",
    "<center>\n",
    "\n",
    "![CDC 6600](src/640px-CDC_6600.jc.jpg \"The CDC 6600 in 1964\")\n",
    "###### *Image source: https://commons.wikimedia.org/wiki/File:CDC_6600.jc.jpg*\n",
    "\n",
    "</center>\n",
    "\n",
    "\n"
   ]
  },
  {
   "cell_type": "markdown",
   "metadata": {},
   "source": [
    "Cray-1 Seymour Cray, 1976\n",
    "\n",
    "---\n",
    "\n",
    "Seymour Cray, the architect of the CDC 6600 started his own company, Cray Research In., in 1972. The company first product released on 1976 was **Cray-1**. It was also the first supercomputer to successfully implement the *vector processor* design (also known as array processor), it is a central processing unit(CPU) that implements a set of instruction in large one-dimensional arrays. With a peak performance up to 160 million floating-point (FLOPS) or 160 Mega-FLOPS(MFLOPS)\n",
    "\n",
    "<center>\n",
    "\n",
    "![Cray-1](src/Cray-1-deutsches-museum.jpg \"A Cray-1 preserved at the Deutsches Museum\")\n",
    "###### *Image source: https://commons.wikimedia.org/wiki/File:Cray-1-deutsches-museum.jpg*\n",
    "\n",
    "</center>"
   ]
  },
  {
   "cell_type": "markdown",
   "metadata": {},
   "source": [
    "Cray-1 Seymour Cray, 1976\n",
    "\n",
    "---\n",
    "\n",
    "Seymour Cray, the architect of the CDC 6600 started his own company, Cray Research In., in 1972. The company first product released on 1976 was **Cray-1**. It was also the first supercomputer to successfully implement the *vector processor* design (also known as array processor), it is a central processing unit(CPU) that implements a set of instruction in large one-dimensional arrays. With a peak performance up to 160 million floating-point (FLOPS) or 160 Mega-FLOPS(MFLOPS)\n",
    "\n",
    "<center>\n",
    "\n",
    "![Cray-1](src/Cray-1-deutsches-museum.jpg \"A Cray-1 preserved at the Deutsches Museum\")\n",
    "###### *Image source: https://commons.wikimedia.org/wiki/File:Cray-1-deutsches-museum.jpg*\n",
    "\n",
    "</center>"
   ]
  },
  {
   "cell_type": "markdown",
   "metadata": {},
   "source": [
    "<h3 id=\"coare-services\"></h3>\n",
    "\n",
    "### COARE services: \n",
    "\n",
    "*DOST ASTI COARE has 3 services available:*\n",
    "\n",
    "\n",
    "1. **High-Performance Computing (HPC)**\n",
    "   <p> The High Performance Computing service is designed to support researchers in their computational tasks, including data analysis and simulations. </p>\n",
    "\n",
    "    - Compute node capacity\n",
    "      - CPU nodes x 36. Each has:\n",
    "          - 88 logical CPUs, with a total of 3168 Cores(CPU)\n",
    "          - 500 GB RAM, with a total of 18 Terabytes of RAM\n",
    "      - The current capacity is 30 TFLOPS or 30 Trillion Floating point operations per second\n",
    "      ---\n",
    "      - GPU nodes\n",
    "        - P40 nodes x 6. Each has:\n",
    "          - 24 CPUs\n",
    "          - 1 TB RAM\n",
    "          - NVIDIA Tesla P40 GPU x 1\n",
    "        - A100 nodes  x 2. Each has:\n",
    "          - 128 CPUs  \n",
    "          - 1 TB RAM\n",
    "          - NVIDIA Tesla A100 GPU x 8\n",
    "      - The current capacity is 75 TFLOPS or 75 Trillion Floating point operations per second\n",
    "      ---\n",
    "    - Storage capacity\n",
    "      - 1015 TB of storage capacity\n",
    "      ---      \n",
    "    - Network capacity\n",
    "      - 10 gigabits/second"
   ]
  },
  {
   "cell_type": "markdown",
   "metadata": {},
   "source": [
    "2. **Science Cloud**\n",
    "   \n",
    "    Another service of COARE is *Science Cloud* which is a Paas (Platform as a Service), this service is ready-to-use, cloud-based for developing, running, maintaining and managing applications. This service is implemented through OpenStack.\n",
    "  \n",
    "  - Compute and Storage capacity\n",
    "    - 3360 Virtual Cores\n",
    "    - 12.5 TB RAM\n",
    "    - 2790 TB of storage capacity\n",
    "    --- \n",
    "  - Default allocation per user of Science Cloud service.\n",
    "    - 4 logical core (CPU)\n",
    "    - 8 GB RAM (Memory)\n",
    "    - 100 GB (Storage)\n",
    "    - 4 max number of instances (Instance are the virtual server can be created)"
   ]
  },
  {
   "cell_type": "markdown",
   "metadata": {},
   "source": [
    "3. **Data Archiving**\n",
    "   \n",
    "   Another services of COARE is Data Archiving which provide a repository that will accommodate various storage requirements, multiple store options and a large storage capacity for COARE users. This service is implemted through the Data Catalog, which is a web-based research repository. This repository is accessible to public and the datasets stored could be integral for academics, data analysts, scienctist and other scholars in the scientific community.\n",
    "\n",
    "  - 1 Petabyte (PB) of storage capacity\n",
    "\n",
    "---"
   ]
  },
  {
   "cell_type": "markdown",
   "metadata": {},
   "source": [
    "COARE services are available for:\n",
    "1. Meteorologists\n",
    "2. Researchers\n",
    "3. Weather Forecasters\n",
    "4. Scientists\n",
    "5. Students\n",
    "\n",
    "<p align=\"center\">\n",
    "  <img width =\"70\" height=\"80\" src=\"src/meteorologist.png\"> &nbsp;&nbsp;&nbsp;&nbsp;\n",
    "  &nbsp;&nbsp;&nbsp;&nbsp;\n",
    "  <img width =\"70\" height=\"80\" src=\"src/researchers.png\"> &nbsp;&nbsp;&nbsp;&nbsp;\n",
    "  &nbsp;&nbsp;&nbsp;&nbsp;\n",
    "  <img width =\"70\" height=\"80\" src=\"src/weather-forecaster.png\"> &nbsp;&nbsp;&nbsp;&nbsp;\n",
    "  &nbsp;&nbsp;&nbsp;&nbsp;\n",
    "  <img width =\"70\" height=\"80\" src=\"src/scientists.png\"> &nbsp;&nbsp;&nbsp;&nbsp;\n",
    "  &nbsp;&nbsp;&nbsp;&nbsp;\n",
    "  <img width =\"70\" height=\"80\" src=\"src/students.png\">\n",
    "</p>\n",
    "\n",
    "\n"
   ]
  },
  {
   "cell_type": "markdown",
   "metadata": {},
   "source": [
    "<h3 id=\"connecttohpc\"> Connect to a High-Performance Computing (HPC) </h3>\n",
    "\n",
    "---\n",
    "\n",
    "To connect to an HPC, you will need to use an SSH client. Some popular SSH clients include:\n",
    "\n",
    "- PuTTY (Windows)\n",
    "- mRemoteNG (Windows)\n",
    "- OpenSSH (Linux and macOS)\n",
    "- Termius (macOS)\n",
    "\n",
    "Once you have installed an SSH client, you will need to know the hostname or IP address of the HPC, as well as your username and password. This information should be provided to you by the HPC administrator.\n"
   ]
  },
  {
   "cell_type": "markdown",
   "metadata": {},
   "source": [
    "<h3 id=\"linux-terminal\"> To connect to an HPC from Windows 10, Linux or macOS: </h3>\n",
    "\n",
    "---\n",
    "\n",
    "1. Open a terminal window.\n",
    "\n",
    "2. Type the following command, replacing <hostname> with the hostname or IP address of the HPC:\n",
    "\n",
    "- *`ssh your_username@<hostname or ip address>`*\n",
    "\n",
    "3. If you are asked for a password, enter your password.\n",
    "   \n",
    "   >***Note:***  *You can also use SSH keys instead of passwords by generating them on your local machine and copying them over to the remote server.*\n",
    "\n",
    "4. You should now be connected to the HPC and can execute commands as if you were on the HPC itself.\n",
    "\n",
    "5. When done, type `exit`. This will close the connection back to your local machine.\n",
    "   \n",
    "   >***Note:*** *Some may encounter an error while using the passwordless access (SSH keys) to access the HPC. Here are some common error:*\n",
    "   >>- *\"Permission denied (publickey).\"* This means that you have not added the public key on the remote server side yet.\n",
    "   >>- *Permission denied (publickey)* : You need to add the public key in the authorized keys file on the remote server.\n",
    "   >>- *Bad Permissions (Unprotected private key file!)* : This means that the permission file of your private key is too open, or it has a permission to be used by others. The best practice for this is to change the permission type of your private key file to 600 (Read and Write for User only).\n",
    "\n",
    "<br> </br>\n",
    "\n",
    "*Example image of a wsl (windows subsystem for linux)*\n",
    "\n",
    "![Linux-MacOS](src/linux-terminal.png \"Terminal Linux and MacOS\")"
   ]
  },
  {
   "cell_type": "markdown",
   "metadata": {},
   "source": [
    "<h3 id=\"putty\"> To connect to an HPC from Windows using PuTTY: </h3>\n",
    "\n",
    "---\n",
    "\n",
    "1. Open PuTTY.\n",
    "\n",
    "2. In the \"*Host Name (or IP address)*\" field, enter the hostname or IP address of the HPC.\n",
    "\n",
    "3. In the \"*Port*\" field, enter 22 (the default SSH port).\n",
    "\n",
    "4. Click the \"*Open*\" button.\n",
    "\n",
    "5. When prompted, enter your username and password.\n",
    "   \n",
    "6. Once you have connected to the HPC, you will be able to access your files and run jobs.\n",
    "\n",
    "\n",
    "<p align=\"center\">\n",
    "  <img src=\"src/putty.png\">\n",
    "</p>\n",
    "\n",
    "<br> </br>\n",
    "\n",
    ">*An example being prompted for username and password after proceeding with \"Open\" button.*\n",
    "\n",
    "<p align=\"center\">\n",
    "  <img width =\"800\" height=\"200\" src=\"src/putty-terminal.png\">\n",
    "</p>\n",
    "\n"
   ]
  },
  {
   "cell_type": "markdown",
   "metadata": {},
   "source": [
    "### Generate SSH Key Pairs\n",
    "\n",
    "The SSH key pair consists of private key and public key. The public key should be given to COARE and the private key will be kept on personal(this can be store on your personal computer or on cloud) for this will be use every time user logs in to the HPC.\n",
    "\n",
    "\n",
    "Generate using Linux / Unix / MacOS / Windows Powershell / WSL \n",
    "\n",
    "1. $ ssh-keygen [<args>]\n",
    "\n",
    "<p align=\"center\">\n",
    "  <img width =\"50%\" height=\"50%\" src=\"src/ssh-keygen-1.png\">\n",
    "</p>\n",
    "\n"
   ]
  },
  {
   "cell_type": "markdown",
   "metadata": {},
   "source": [
    "### *References*\n",
    "\n",
    "\n",
    "| Syntax      | Description |\n",
    "| :---        |    ---:   |\n",
    "| `https://www.geeksforgeeks.org/an-overview-of-cluster-computing/` | An Overview of Cluster Computing |\n",
    "| `https://www.britannica.com/technology/supercomputer#ref1070668` | Supercomputer <br> CDC 6600 <br> Cray-1 |\n",
    "| `https://www.convert-measurement-units.com/conversion-calculator.php` | Conversion Calculator  |\n",
    "| `https://www.extremetech.com/extreme/125271-the-history-of-supercomputers` | History of Supercomputers  |\n",
    "| `https://en.wikipedia.org/wiki/Supercomputer#` | Supercomputer  |\n"
   ]
  }
 ],
 "metadata": {
  "language_info": {
   "name": "python"
  },
  "orig_nbformat": 4
 },
 "nbformat": 4,
 "nbformat_minor": 2
}
