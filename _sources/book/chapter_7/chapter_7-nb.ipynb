{
 "cells": [
  {
   "cell_type": "markdown",
   "metadata": {},
   "source": [
    "# COARE and ASTI’s Quantum Circuit Simulation Project \n",
    "*by [yet to be determined]*"
   ]
  },
  {
   "cell_type": "markdown",
   "metadata": {},
   "source": [
    "## High-Performance Computing (HPC)\n",
    "\n",
    "*The topic will cover about the High-Performance Computing (HPC)*"
   ]
  },
  {
   "cell_type": "markdown",
   "metadata": {},
   "source": [
    "### Table of Contents\n",
    "\n",
    "- [Intoduction](#introduction)\n",
    "- [History](#history)\n",
    "- [Connect to a High-Performance Computing using CLI (command-line interface)](#connecttohpc)\n",
    "  - [Using terminal for Linux and macOS](#linux-terminal)\n",
    "  - [Using Putty for Windows](#putty)\n"
   ]
  }
 ],
 "metadata": {
  "language_info": {
   "name": "python"
  },
  "orig_nbformat": 4
 },
 "nbformat": 4,
 "nbformat_minor": 2
}
