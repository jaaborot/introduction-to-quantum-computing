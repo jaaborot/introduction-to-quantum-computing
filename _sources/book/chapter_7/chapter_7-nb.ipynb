{
 "cells": [
  {
   "cell_type": "markdown",
   "metadata": {},
   "source": [
    "# COARE and ASTI’s Quantum Circuit Simulation Project \n",
    "*by [yet to be determined]*"
   ]
  }
 ],
 "metadata": {
  "language_info": {
   "name": "python"
  },
  "orig_nbformat": 4
 },
 "nbformat": 4,
 "nbformat_minor": 2
}
